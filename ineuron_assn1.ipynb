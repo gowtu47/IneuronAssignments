{
  "nbformat": 4,
  "nbformat_minor": 0,
  "metadata": {
    "colab": {
      "provenance": []
    },
    "kernelspec": {
      "name": "python3",
      "display_name": "Python 3"
    },
    "language_info": {
      "name": "python"
    }
  },
  "cells": [
    {
      "cell_type": "markdown",
      "source": [
        "**13/12/2022**"
      ],
      "metadata": {
        "id": "oJ3bqKqIYFCc"
      }
    },
    {
      "cell_type": "code",
      "execution_count": null,
      "metadata": {
        "colab": {
          "base_uri": "https://localhost:8080/"
        },
        "id": "ShaM2P9gXN1p",
        "outputId": "5470081d-9c6f-499a-f192-106160412194"
      },
      "outputs": [
        {
          "output_type": "stream",
          "name": "stdout",
          "text": [
            "enter first digit 10\n",
            "enter second digit 20\n",
            "sum is 30\n"
          ]
        }
      ],
      "source": [
        "#●\tWAP to accept two numbers from the user and display their sum\n",
        "a=int(input(\"enter first digit \"))\n",
        "b=int(input(\"enter second digit \"))\n",
        "\n",
        "c=a+b\n",
        "\n",
        "print(\"sum is\",c)"
      ]
    },
    {
      "cell_type": "code",
      "source": [
        "#\tWAP to accept radius of a Circle from the user and calculate area and circumference\n",
        "\n",
        "import math\n",
        "\n",
        "radius=int(input())\n",
        "\n",
        "area=math.pi*radius*radius\n",
        "circumference=2*math.pi*radius\n",
        "\n",
        "print(\"Area is\",area)\n",
        "\n",
        "print(\"circumference is\",circumference)"
      ],
      "metadata": {
        "colab": {
          "base_uri": "https://localhost:8080/"
        },
        "id": "VkArls-PYQZI",
        "outputId": "e2172dca-334d-4e70-85bd-bf8b9f26ed5e"
      },
      "execution_count": null,
      "outputs": [
        {
          "output_type": "stream",
          "name": "stdout",
          "text": [
            "5\n",
            "Area is 78.53981633974483\n",
            "circumference is 31.41592653589793\n"
          ]
        }
      ]
    },
    {
      "cell_type": "code",
      "source": [
        "#WAP to accept roll number , grade and percentage as input from the user and display it back\n",
        "\n",
        "Roll=input()\n",
        "grade=float(input())\n",
        "percentage=float(input())\n",
        "\n",
        "print(\"Roll number is\",Roll)\n",
        "print(\"Grade is\",grade)\n",
        "print(\"Percentage is\",percentage)\n",
        "\n"
      ],
      "metadata": {
        "colab": {
          "base_uri": "https://localhost:8080/"
        },
        "id": "GYgndb9LZUTW",
        "outputId": "83850253-1d36-458f-9067-ed8692e09c82"
      },
      "execution_count": null,
      "outputs": [
        {
          "output_type": "stream",
          "name": "stdout",
          "text": [
            "AM.EN.U4CSE19143\n",
            "7.48\n",
            "71.06\n",
            "Roll number is AM.EN.U4CSE19143\n",
            "Grade is 7.48\n",
            "Percentage is 71.06\n"
          ]
        }
      ]
    },
    {
      "cell_type": "code",
      "source": [
        "#Write a program that asks the user to enter his/her name and age. Print out a message , displaying the user’s name along with the year in which they will turn 100 years old.\n",
        "a=input(\"Please Enter Your Name:\")\n",
        "b=int(input(\"Please Enter Your Age:\"))\n",
        "c=100-b\n",
        "print(a,\"Will Turn 100 years in\",c,\"years\")\n"
      ],
      "metadata": {
        "colab": {
          "base_uri": "https://localhost:8080/"
        },
        "id": "sxEi6A_XaG15",
        "outputId": "11214b67-cfcc-4ca9-a5a7-79e10e97fd23"
      },
      "execution_count": null,
      "outputs": [
        {
          "output_type": "stream",
          "name": "stdout",
          "text": [
            "Please Enter Your Name:Gowtham\n",
            "Please Enter Your Age:21\n",
            "Gowtham Will Turn 100 years in 79 years\n"
          ]
        }
      ]
    },
    {
      "cell_type": "code",
      "source": [
        "#Write a program that asks the user to input 2 integers and adds them . Accept both the numbers in a single line only\n",
        "\n",
        "a,b=int(input(\"enter a: \")),int(input(\"enter b: \"))\n",
        "\n",
        "c=a+b\n",
        "\n",
        "print(\"sum is\",c)\n"
      ],
      "metadata": {
        "colab": {
          "base_uri": "https://localhost:8080/"
        },
        "id": "4p7PHprusRjO",
        "outputId": "e26895e3-f6e8-4821-ac02-f1030656b0f2"
      },
      "execution_count": null,
      "outputs": [
        {
          "output_type": "stream",
          "name": "stdout",
          "text": [
            "enter a: 21\n",
            "enter b: 79\n",
            "sum is 100\n"
          ]
        }
      ]
    },
    {
      "cell_type": "code",
      "source": [
        "#Write a Python program which accepts the user's first and last name and print them in reverse order with a space between them.\n",
        "\n",
        "a=input()\n",
        "b=input()\n",
        "\n",
        "print(a[::-1], b[::-1])"
      ],
      "metadata": {
        "colab": {
          "base_uri": "https://localhost:8080/"
        },
        "id": "VYRvj5FOs46S",
        "outputId": "81e33a5c-ffaa-48e2-e02d-238c58356afd"
      },
      "execution_count": null,
      "outputs": [
        {
          "output_type": "stream",
          "name": "stdout",
          "text": [
            "Gowtham\n",
            "Pulivendula\n",
            "mahtwoG aludneviluP\n"
          ]
        }
      ]
    },
    {
      "cell_type": "markdown",
      "source": [
        "**15/12/2022**"
      ],
      "metadata": {
        "id": "VwP4KxDxuxmv"
      }
    },
    {
      "cell_type": "code",
      "source": [
        "#WAP to accept an integer from the user and check whether it is an even or odd \n",
        "\n",
        "a=int(input(\"Enter the number:\"))\n",
        "\n",
        "if(a%2==0):\n",
        "  print(\"number is even\")\n",
        "else:\n",
        "  print(\"number is odd\")"
      ],
      "metadata": {
        "colab": {
          "base_uri": "https://localhost:8080/"
        },
        "id": "BWiAeyvput2b",
        "outputId": "e677feae-0990-4c77-ee65-fc6345612458"
      },
      "execution_count": null,
      "outputs": [
        {
          "output_type": "stream",
          "name": "stdout",
          "text": [
            "Enter the number:1257\n",
            "number is odd\n"
          ]
        }
      ]
    },
    {
      "cell_type": "code",
      "source": [
        "a=input(\"enter a character:\",)[0]\n",
        "if (a.isupper()):\n",
        "  print(a,\"is a uppercase\")\n",
        "elif(a.islower()):\n",
        "  print(a,\"is a lowercase\")\n",
        "else:\n",
        "  print(\"invaild character\")\n"
      ],
      "metadata": {
        "id": "x2YZSRq9vZT8",
        "colab": {
          "base_uri": "https://localhost:8080/"
        },
        "outputId": "82bb8c19-cee0-4f84-ddf0-ca37e21cef76"
      },
      "execution_count": null,
      "outputs": [
        {
          "output_type": "stream",
          "name": "stdout",
          "text": [
            "enter a character:J\n",
            "J is a uppercase\n"
          ]
        }
      ]
    },
    {
      "cell_type": "code",
      "source": [
        "#WAP to accept a character from the user and check whether it is a capital letter or small letter or a digit or some special symbol\n",
        "a=input(\"enter a character:\",)[0]\n",
        "if (a.isupper()):\n",
        "  print(a,\"is a uppercase\")\n",
        "elif(a.islower()):\n",
        "  print(a,\"is a lowercase\")\n",
        "elif(a.match('^[a-zA-Z0-9]*$')):\n",
        "\n",
        "  print(a,\"is a special character\")\n",
        "else:\n",
        "  print(\"invaild character\")\n"
      ],
      "metadata": {
        "colab": {
          "base_uri": "https://localhost:8080/"
        },
        "id": "vcH_64R_mOBQ",
        "outputId": "ff72e927-12d4-4db5-d7cc-faffbbab5e8e"
      },
      "execution_count": null,
      "outputs": [
        {
          "output_type": "stream",
          "name": "stdout",
          "text": [
            "enter a character:fds\n",
            "f is a lowercase\n"
          ]
        }
      ]
    },
    {
      "cell_type": "code",
      "source": [
        "#WAP to accept 3 integers from the user and without using any logical operator and cascading of relational operators , find out the greatest number amongst them\n",
        "a=int(input(\"enter 1st digit: \"))\n",
        "b=int(input(\"enter 2nd digit: \"))\n",
        "c=int(input(\"enter 3rd digit: \"))\n",
        "\n",
        "\n",
        "def maximum(a, b, c):\n",
        "    list = [a, b, c]\n",
        "    return max(list)\n",
        "maximum(a,b,c)\n"
      ],
      "metadata": {
        "colab": {
          "base_uri": "https://localhost:8080/"
        },
        "id": "9iqcEVPUGsm-",
        "outputId": "27464b72-e70e-4f0d-e5f8-8e1fef4ef3b7"
      },
      "execution_count": null,
      "outputs": [
        {
          "name": "stdout",
          "output_type": "stream",
          "text": [
            "enter 1st digit: 5\n",
            "enter 2nd digit: 7\n",
            "enter 3rd digit: 8\n"
          ]
        },
        {
          "output_type": "execute_result",
          "data": {
            "text/plain": [
              "8"
            ]
          },
          "metadata": {},
          "execution_count": 11
        }
      ]
    },
    {
      "cell_type": "code",
      "source": [
        "\"\"\"\tWAP to accept a year from the user and check whether it is a leap year or not.\n",
        "An year is a leap year if:\n",
        "It is exactly divisible by 4 and at the same time not\n",
        "divisible by 100\n",
        "OR\n",
        "It is divisible by 400\n",
        "For example:\n",
        "2017 is not a leap year\n",
        "2012 is a leap year\n",
        "1900 is a not leap year\n",
        "2000 is a leap year \"\"\"\n",
        "\n",
        "a=int(input(\"please enter the year: \"))\n",
        "\n",
        "if(a%400==0 and a%100==0 and a%4==0):\n",
        "  print(\"given year is a leap year\")\n",
        "else:\n",
        "  print(\"not a leap year\")"
      ],
      "metadata": {
        "colab": {
          "base_uri": "https://localhost:8080/"
        },
        "id": "SWzymYF-ICcq",
        "outputId": "eacf94f1-ed52-4dea-c284-2b0a5f3c6fa5"
      },
      "execution_count": null,
      "outputs": [
        {
          "output_type": "stream",
          "name": "stdout",
          "text": [
            "please enter the year: 1900\n",
            "not a leap year\n"
          ]
        }
      ]
    },
    {
      "cell_type": "code",
      "source": [
        "\"\"\"●\tYou have to develop a number guessing game. Following are the steps needed:\n",
        "●\tAt first , the program will generate a random integer secretly.\n",
        "\n",
        "●\tNow it will ask the user to guess that number .\n",
        "\n",
        "●\tIf the user guessed it correctly then the program prints “Congratulations! You guessed it right” .\n",
        "\n",
        "●\tBut if the number guessed by the user is larger than the secret number then program should print “Number too large” and , if the number guessed by the user is smaller than the secret number then the program should print “Number too small” \n",
        "\n",
        "●\tThis should continue until the user guesses the number correctly or quits .\n",
        "\n",
        "●\tIf the user wants to quit in between he will have to type 0 or negative number\n",
        "\"\"\"\n",
        "import random\n",
        "\n",
        "a=random.randint(0,10000000000000000000)\n",
        "\n",
        "b=int(input(\"guess the number: \"))\n",
        "\n",
        "if(a<b):\n",
        "  print(\"Number too large\")\n",
        "elif(a>b):\n",
        "  print(\"Number too small\")\n",
        "else:\n",
        "  print(\"invaild\")\n",
        "\n",
        "print(\"random number is \",a)\n",
        "\n"
      ],
      "metadata": {
        "colab": {
          "base_uri": "https://localhost:8080/"
        },
        "id": "v7_LG13FJjq-",
        "outputId": "55e36e5d-870e-4751-9d31-3a835ed1941e"
      },
      "execution_count": null,
      "outputs": [
        {
          "output_type": "stream",
          "name": "stdout",
          "text": [
            "guess the number: 463343453\n",
            "Number too small\n",
            "random number is  2830485084278402373\n"
          ]
        }
      ]
    },
    {
      "cell_type": "code",
      "source": [
        "#Write a program to accept a string from the user and display it vertically but don’t display the vowels in it.\n",
        "\n",
        "string=input()\n",
        "\n",
        "vowels=['a','e','i','o','u','A','E','I','O','U']\n",
        "result=\"\"\n",
        "\n",
        "for i in range(len(string)):\n",
        "  if string[i] not in vowels:\n",
        "    result=result+string[i]\n",
        "\n",
        "for j in range(len(result)):\n",
        "  print(result[j])\n",
        "\n",
        "  j+=1"
      ],
      "metadata": {
        "colab": {
          "base_uri": "https://localhost:8080/"
        },
        "id": "OWzexVzhKvg1",
        "outputId": "b9fdaf7e-5d69-45fc-9bf3-8fe9411a3d42"
      },
      "execution_count": null,
      "outputs": [
        {
          "output_type": "stream",
          "name": "stdout",
          "text": [
            "Gowtham\n",
            "G\n",
            "w\n",
            "t\n",
            "h\n",
            "m\n"
          ]
        }
      ]
    },
    {
      "cell_type": "code",
      "source": [
        "#Write a program to continuously accept integers from the user until the user types 0 and as soon as 0 is entered display sum of all the nos entered before 0\n",
        "\n",
        "sum=0\n",
        "\n",
        "count=1\n",
        "\n",
        "\n",
        "\n",
        "while input() !=0:\n",
        "  sum=sum+input()\n",
        "  count=count+1\n",
        "\n",
        "print(sum)"
      ],
      "metadata": {
        "colab": {
          "base_uri": "https://localhost:8080/",
          "height": 269
        },
        "id": "obEB5zt9Oj19",
        "outputId": "208f75c3-8d03-4551-c60d-9ca1e10045fb"
      },
      "execution_count": null,
      "outputs": [
        {
          "name": "stdout",
          "output_type": "stream",
          "text": [
            "1 \n",
            "0\n"
          ]
        },
        {
          "output_type": "error",
          "ename": "TypeError",
          "evalue": "ignored",
          "traceback": [
            "\u001b[0;31m---------------------------------------------------------------------------\u001b[0m",
            "\u001b[0;31mTypeError\u001b[0m                                 Traceback (most recent call last)",
            "\u001b[0;32m<ipython-input-9-363c3e5991cd>\u001b[0m in \u001b[0;36m<module>\u001b[0;34m\u001b[0m\n\u001b[1;32m      8\u001b[0m \u001b[0;34m\u001b[0m\u001b[0m\n\u001b[1;32m      9\u001b[0m \u001b[0;32mwhile\u001b[0m \u001b[0minput\u001b[0m\u001b[0;34m(\u001b[0m\u001b[0;34m)\u001b[0m \u001b[0;34m!=\u001b[0m\u001b[0;36m0\u001b[0m\u001b[0;34m:\u001b[0m\u001b[0;34m\u001b[0m\u001b[0;34m\u001b[0m\u001b[0m\n\u001b[0;32m---> 10\u001b[0;31m   \u001b[0msum\u001b[0m\u001b[0;34m=\u001b[0m\u001b[0msum\u001b[0m\u001b[0;34m+\u001b[0m\u001b[0minput\u001b[0m\u001b[0;34m(\u001b[0m\u001b[0;34m)\u001b[0m\u001b[0;34m\u001b[0m\u001b[0;34m\u001b[0m\u001b[0m\n\u001b[0m\u001b[1;32m     11\u001b[0m   \u001b[0mcount\u001b[0m\u001b[0;34m=\u001b[0m\u001b[0mcount\u001b[0m\u001b[0;34m+\u001b[0m\u001b[0;36m1\u001b[0m\u001b[0;34m\u001b[0m\u001b[0;34m\u001b[0m\u001b[0m\n\u001b[1;32m     12\u001b[0m \u001b[0;34m\u001b[0m\u001b[0m\n",
            "\u001b[0;31mTypeError\u001b[0m: unsupported operand type(s) for +: 'int' and 'str'"
          ]
        }
      ]
    },
    {
      "cell_type": "code",
      "source": [
        "#●\tWrite a program to accept an integer from the user and display the sum of all the numbers from 1 to that number\n",
        "n = int(input(\"Enter number\"))\n",
        "sum = 0\n",
        "for num in range(1, n + 1, 1):\n",
        "    sum = sum + num\n",
        "print(\"Sum of numbers is: \", sum)\n",
        "\n",
        "\n"
      ],
      "metadata": {
        "colab": {
          "base_uri": "https://localhost:8080/"
        },
        "id": "a8kYLtU1P31_",
        "outputId": "529cd871-d0bd-4a9e-9e1e-7359c22bbc86"
      },
      "execution_count": 6,
      "outputs": [
        {
          "output_type": "stream",
          "name": "stdout",
          "text": [
            "Enter number7\n",
            "Sum of numbers is:  28\n"
          ]
        }
      ]
    },
    {
      "cell_type": "code",
      "source": [
        "#●\tWrite a program to accept an integer from the user and calculate its factorial\n",
        "\n",
        "num=int(input(\"Enter Number: \"))\n",
        "\n",
        "fact=1\n",
        "\n",
        "if(num<0):\n",
        "  print(\"Negative numbers can't be factorised\")\n",
        "elif(num==0):\n",
        "  print(\"0\")\n",
        "else:\n",
        "  for i in (1,num+1):\n",
        "    fact=num*fact\n",
        "  print(\"factorial is:\",fact)"
      ],
      "metadata": {
        "colab": {
          "base_uri": "https://localhost:8080/"
        },
        "id": "8sFxqY3x0yaF",
        "outputId": "eb12bcb2-0e95-459b-96f4-168885c3a027"
      },
      "execution_count": 10,
      "outputs": [
        {
          "output_type": "stream",
          "name": "stdout",
          "text": [
            "Enter Number: 8\n",
            "factorial is: 64\n"
          ]
        }
      ]
    },
    {
      "cell_type": "markdown",
      "source": [
        "# **Patterns**"
      ],
      "metadata": {
        "id": "RLqUOwAx2J0d"
      }
    },
    {
      "cell_type": "code",
      "source": [
        "n=4\n",
        "m=3\n",
        "\n",
        "for i in range(n):\n",
        "  for j in range(m):\n",
        "\n",
        "\n",
        "    print(\"*\",end=\"\")\n",
        "  print(\" \")"
      ],
      "metadata": {
        "colab": {
          "base_uri": "https://localhost:8080/"
        },
        "id": "Hv522Wnp2EpT",
        "outputId": "2e6ac37d-eeb6-471b-eff2-b857878a9e2e"
      },
      "execution_count": 23,
      "outputs": [
        {
          "output_type": "stream",
          "name": "stdout",
          "text": [
            "*** \n",
            "*** \n",
            "*** \n",
            "*** \n"
          ]
        }
      ]
    },
    {
      "cell_type": "code",
      "source": [
        "n=4\n",
        "\n",
        "for i in range(0,n):\n",
        "  for j in range(0,i+1):\n",
        "\n",
        "    print(\"*\",end=\"\")\n",
        "\n",
        "  print()"
      ],
      "metadata": {
        "colab": {
          "base_uri": "https://localhost:8080/"
        },
        "id": "DJcu2ABoFf4_",
        "outputId": "a2f78fd3-2cbb-4ee4-f8f6-f1af678fbb84"
      },
      "execution_count": 24,
      "outputs": [
        {
          "output_type": "stream",
          "name": "stdout",
          "text": [
            "*\n",
            "**\n",
            "***\n",
            "****\n"
          ]
        }
      ]
    },
    {
      "cell_type": "code",
      "source": [
        "n=4\n",
        "\n",
        "\n",
        "for i in range(n+1,0,-1):\n",
        "  for j in range(0,i-1):\n",
        "\n",
        "    print(\"*\",end=\"\")\n",
        "\n",
        "  print()"
      ],
      "metadata": {
        "colab": {
          "base_uri": "https://localhost:8080/"
        },
        "id": "83aQsFHyGCL3",
        "outputId": "27d0f3b4-9eb7-4e49-8e0c-4cd9919706b5"
      },
      "execution_count": 28,
      "outputs": [
        {
          "output_type": "stream",
          "name": "stdout",
          "text": [
            "****\n",
            "***\n",
            "**\n",
            "*\n",
            "\n"
          ]
        }
      ]
    },
    {
      "cell_type": "code",
      "source": [
        "#Write a program to accept an integer from the user and display all the numbers from 1 to that number. Repeat the process until the user enters 0.\n",
        "\n",
        "n=int(input(\"enter the number:\"))\n",
        "\n",
        "\n",
        "\n",
        "for i in range(0,n):\n",
        "\n",
        "  print(n)\n",
        "\n",
        "  n=n-1\n",
        "\n",
        "print()\n",
        "\n"
      ],
      "metadata": {
        "id": "DmmVp2KkH22l",
        "outputId": "1519d08c-4bc3-4956-aeae-0a61fb385834",
        "colab": {
          "base_uri": "https://localhost:8080/"
        }
      },
      "execution_count": 38,
      "outputs": [
        {
          "output_type": "stream",
          "name": "stdout",
          "text": [
            "enter the number:10\n",
            "10\n",
            "9\n",
            "8\n",
            "7\n",
            "6\n",
            "5\n",
            "4\n",
            "3\n",
            "2\n",
            "1\n",
            "\n"
          ]
        }
      ]
    }
  ]
}